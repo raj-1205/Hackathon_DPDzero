{
 "cells": [
  {
   "cell_type": "code",
   "execution_count": 1,
   "id": "44f573ba-308d-4cb7-a440-d0e01820f723",
   "metadata": {},
   "outputs": [],
   "source": [
    "import pandas as pd\n",
    "from pandasai import SmartDataframe\n",
    "from pandasai.llm.local_llm import LocalLLM\n",
    "import matplotlib.pyplot as plt\n",
    "# format pandas numbers\n",
    "pd.options.display.float_format = '{:,.0f}'.format\n",
    "#magic function for inline charts in notebook\n",
    "%matplotlib inline\n",
    "#For chart style from matplotlib \n",
    "plt.style.use('fivethirtyeight')"
   ]
  },
  {
   "cell_type": "code",
   "execution_count": 2,
   "id": "123cb451-e1a7-4b3b-8cfc-843ddc1c4393",
   "metadata": {},
   "outputs": [
    {
     "data": {
      "text/html": [
       "<div>\n",
       "<style scoped>\n",
       "    .dataframe tbody tr th:only-of-type {\n",
       "        vertical-align: middle;\n",
       "    }\n",
       "\n",
       "    .dataframe tbody tr th {\n",
       "        vertical-align: top;\n",
       "    }\n",
       "\n",
       "    .dataframe thead th {\n",
       "        text-align: right;\n",
       "    }\n",
       "</style>\n",
       "<table border=\"1\" class=\"dataframe\">\n",
       "  <thead>\n",
       "    <tr style=\"text-align: right;\">\n",
       "      <th></th>\n",
       "      <th>productcategory</th>\n",
       "      <th>productsubcategory</th>\n",
       "      <th>saleterritory</th>\n",
       "      <th>State</th>\n",
       "      <th>Customer</th>\n",
       "      <th>OrderCount</th>\n",
       "      <th>OrderDate</th>\n",
       "      <th>Sales</th>\n",
       "      <th>Country</th>\n",
       "      <th>Territory</th>\n",
       "    </tr>\n",
       "  </thead>\n",
       "  <tbody>\n",
       "    <tr>\n",
       "      <th>0</th>\n",
       "      <td>Clothing</td>\n",
       "      <td>Caps</td>\n",
       "      <td>Northwest</td>\n",
       "      <td>Wyoming</td>\n",
       "      <td>François Ferrier</td>\n",
       "      <td>1</td>\n",
       "      <td>5/31/2011 0:00</td>\n",
       "      <td>16</td>\n",
       "      <td>US</td>\n",
       "      <td>Casper</td>\n",
       "    </tr>\n",
       "    <tr>\n",
       "      <th>1</th>\n",
       "      <td>Clothing</td>\n",
       "      <td>Caps</td>\n",
       "      <td>Northwest</td>\n",
       "      <td>Washington</td>\n",
       "      <td>Richard Bready</td>\n",
       "      <td>1</td>\n",
       "      <td>5/31/2011 0:00</td>\n",
       "      <td>10</td>\n",
       "      <td>US</td>\n",
       "      <td>Seattle</td>\n",
       "    </tr>\n",
       "    <tr>\n",
       "      <th>2</th>\n",
       "      <td>Components</td>\n",
       "      <td>Mountain Frames</td>\n",
       "      <td>Northwest</td>\n",
       "      <td>Washington</td>\n",
       "      <td>Carolyn Farino</td>\n",
       "      <td>1</td>\n",
       "      <td>5/31/2011 0:00</td>\n",
       "      <td>715</td>\n",
       "      <td>US</td>\n",
       "      <td>Puyallup</td>\n",
       "    </tr>\n",
       "    <tr>\n",
       "      <th>3</th>\n",
       "      <td>Clothing</td>\n",
       "      <td>Jerseys</td>\n",
       "      <td>Northwest</td>\n",
       "      <td>Wyoming</td>\n",
       "      <td>François Ferrier</td>\n",
       "      <td>1</td>\n",
       "      <td>5/31/2011 0:00</td>\n",
       "      <td>58</td>\n",
       "      <td>US</td>\n",
       "      <td>Casper</td>\n",
       "    </tr>\n",
       "    <tr>\n",
       "      <th>4</th>\n",
       "      <td>Clothing</td>\n",
       "      <td>Jerseys</td>\n",
       "      <td>Northwest</td>\n",
       "      <td>Washington</td>\n",
       "      <td>Richard Bready</td>\n",
       "      <td>1</td>\n",
       "      <td>5/31/2011 0:00</td>\n",
       "      <td>58</td>\n",
       "      <td>US</td>\n",
       "      <td>Seattle</td>\n",
       "    </tr>\n",
       "  </tbody>\n",
       "</table>\n",
       "</div>"
      ],
      "text/plain": [
       "  productcategory productsubcategory saleterritory       State  \\\n",
       "0        Clothing               Caps     Northwest     Wyoming   \n",
       "1        Clothing               Caps     Northwest  Washington   \n",
       "2      Components    Mountain Frames     Northwest  Washington   \n",
       "3        Clothing            Jerseys     Northwest     Wyoming   \n",
       "4        Clothing            Jerseys     Northwest  Washington   \n",
       "\n",
       "           Customer  OrderCount       OrderDate  Sales Country Territory  \n",
       "0  François Ferrier           1  5/31/2011 0:00     16      US    Casper  \n",
       "1    Richard Bready           1  5/31/2011 0:00     10      US   Seattle  \n",
       "2    Carolyn Farino           1  5/31/2011 0:00    715      US  Puyallup  \n",
       "3  François Ferrier           1  5/31/2011 0:00     58      US    Casper  \n",
       "4    Richard Bready           1  5/31/2011 0:00     58      US   Seattle  "
      ]
     },
     "execution_count": 2,
     "metadata": {},
     "output_type": "execute_result"
    }
   ],
   "source": [
    "df = pd.read_csv(\"sales.csv\")\n",
    "df.head()"
   ]
  },
  {
   "cell_type": "code",
   "execution_count": 3,
   "id": "48553b6c-17e0-4e57-92ce-da13e2882c30",
   "metadata": {},
   "outputs": [],
   "source": [
    "ollama_llm = LocalLLM(api_base=\"http://localhost:11434/v1\", model=\"llama3\")\n",
    "df_llm = SmartDataframe(df, config={\"llm\": ollama_llm})"
   ]
  },
  {
   "cell_type": "code",
   "execution_count": 4,
   "id": "484ff9de-4cd5-48da-9d0e-18a748829122",
   "metadata": {},
   "outputs": [
    {
     "name": "stdout",
     "output_type": "stream",
     "text": [
      "{'type': 'number', 'value': 53603092.703814}\n"
     ]
    },
    {
     "data": {
      "text/plain": [
       "53603092.703814"
      ]
     },
     "execution_count": 4,
     "metadata": {},
     "output_type": "execute_result"
    }
   ],
   "source": [
    "df_llm.chat('What is the total sales?')"
   ]
  },
  {
   "cell_type": "code",
   "execution_count": 6,
   "id": "3192133e-079b-4636-a42a-6371e0622d4c",
   "metadata": {},
   "outputs": [
    {
     "name": "stdout",
     "output_type": "stream",
     "text": [
      "{'type': 'dataframe', 'value': productcategory\n",
      "Accessories      303,515\n",
      "Bikes         44,828,243\n",
      "Clothing       1,037,437\n",
      "Components     7,433,897\n",
      "Name: Sales, dtype: float64}\n"
     ]
    },
    {
     "data": {
      "text/html": [
       "<div>\n",
       "<style scoped>\n",
       "    .dataframe tbody tr th:only-of-type {\n",
       "        vertical-align: middle;\n",
       "    }\n",
       "\n",
       "    .dataframe tbody tr th {\n",
       "        vertical-align: top;\n",
       "    }\n",
       "\n",
       "    .dataframe thead th {\n",
       "        text-align: right;\n",
       "    }\n",
       "</style>\n",
       "<table border=\"1\" class=\"dataframe\">\n",
       "  <thead>\n",
       "    <tr style=\"text-align: right;\">\n",
       "      <th></th>\n",
       "      <th>Sales</th>\n",
       "    </tr>\n",
       "    <tr>\n",
       "      <th>productcategory</th>\n",
       "      <th></th>\n",
       "    </tr>\n",
       "  </thead>\n",
       "  <tbody>\n",
       "    <tr>\n",
       "      <th>Accessories</th>\n",
       "      <td>303,515</td>\n",
       "    </tr>\n",
       "    <tr>\n",
       "      <th>Bikes</th>\n",
       "      <td>44,828,243</td>\n",
       "    </tr>\n",
       "    <tr>\n",
       "      <th>Clothing</th>\n",
       "      <td>1,037,437</td>\n",
       "    </tr>\n",
       "    <tr>\n",
       "      <th>Components</th>\n",
       "      <td>7,433,897</td>\n",
       "    </tr>\n",
       "  </tbody>\n",
       "</table>\n",
       "</div>"
      ],
      "text/plain": [
       "                     Sales\n",
       "productcategory           \n",
       "Accessories        303,515\n",
       "Bikes           44,828,243\n",
       "Clothing         1,037,437\n",
       "Components       7,433,897"
      ]
     },
     "execution_count": 6,
     "metadata": {},
     "output_type": "execute_result"
    }
   ],
   "source": [
    "df_llm.chat('What is the sale by productcategory?')"
   ]
  },
  {
   "cell_type": "code",
   "execution_count": 13,
   "id": "086af120-ca08-4f89-b6b2-6e1452cb3161",
   "metadata": {},
   "outputs": [
    {
     "name": "stdout",
     "output_type": "stream",
     "text": [
      "{'type': 'plot', 'value': 'D:/PandasAILLM/exports/charts/temp_chart.png'}\n"
     ]
    },
    {
     "data": {
      "text/plain": [
       "'D:/PandasAILLM/exports/charts/temp_chart.png'"
      ]
     },
     "execution_count": 13,
     "metadata": {},
     "output_type": "execute_result"
    },
    {
     "data": {
      "image/png": "[encoded data removed]",
      "text/plain": [
       "<Figure size 1000x600 with 1 Axes>"
      ]
     },
     "metadata": {},
     "output_type": "display_data"
    }
   ],
   "source": [
    "df_llm.chat('diplay the sale by productcategory?')"
   ]
  },
  {
   "cell_type": "code",
   "execution_count": null,
   "id": "5f96a5a4-ee5e-4367-9a9d-bbf7aa5f65b2",
   "metadata": {},
   "outputs": [],
   "source": []
  }
 ],
 "metadata": {
  "kernelspec": {
   "display_name": "Python 3 (ipykernel)",
   "language": "python",
   "name": "python3"
  },
  "language_info": {
   "codemirror_mode": {
    "name": "ipython",
    "version": 3
   },
   "file_extension": ".py",
   "mimetype": "text/x-python",
   "name": "python",
   "nbconvert_exporter": "python",
   "pygments_lexer": "ipython3",
   "version": "3.9.13"
  },
  "widgets": {
   "application/vnd.jupyter.widget-state+json": {
    "state": {},
    "version_major": 2,
    "version_minor": 0
   }
  }
 },
 "nbformat": 4,
 "nbformat_minor": 5
}
